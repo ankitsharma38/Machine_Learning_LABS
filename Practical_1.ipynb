{
  "nbformat": 4,
  "nbformat_minor": 0,
  "metadata": {
    "colab": {
      "provenance": [],
      "mount_file_id": "1YSrB8-ZuafxjKrpfSe4IVK1c9y6qHQv8",
      "authorship_tag": "ABX9TyPNsHz0g3dK+tXTdI2twIBp",
      "include_colab_link": true
    },
    "kernelspec": {
      "name": "python3",
      "display_name": "Python 3"
    },
    "language_info": {
      "name": "python"
    }
  },
  "cells": [
    {
      "cell_type": "markdown",
      "metadata": {
        "id": "view-in-github",
        "colab_type": "text"
      },
      "source": [
        "<a href=\"https://colab.research.google.com/github/ankitsharma38/Machine_Learning_LABS/blob/main/Practical_1.ipynb\" target=\"_parent\"><img src=\"https://colab.research.google.com/assets/colab-badge.svg\" alt=\"Open In Colab\"/></a>"
      ]
    },
    {
      "cell_type": "code",
      "execution_count": null,
      "metadata": {
        "colab": {
          "base_uri": "https://localhost:8080/"
        },
        "id": "Hl0xkyZYCVV8",
        "outputId": "203ece1e-2150-4ffb-89dd-475631cf310e"
      },
      "outputs": [
        {
          "output_type": "stream",
          "name": "stdout",
          "text": [
            "Mounted at /content/drive\n"
          ]
        }
      ],
      "source": [
        "from google.colab import drive\n",
        "drive.mount('/content/drive')"
      ]
    },
    {
      "cell_type": "code",
      "source": [
        "import pandas as pd\n",
        "import numpy as np\n",
        "import matplotlib.pyplot as plt\n",
        "from sklearn.naive_bayes import GaussianNB\n",
        "from sklearn.model_selection import train_test_split\n",
        "from sklearn.metrics import accuracy_score, confusion_matrix, ConfusionMatrixDisplay\n",
        "from sklearn.preprocessing import LabelEncoder\n",
        "from sklearn.impute import SimpleImputer\n",
        "\n",
        "# Load the dataset\n",
        "data_set = pd.read_csv('/content/drive/MyDrive/ML_LAB/data_csv.csv')\n",
        "\n",
        "# Replace 'Yes' and 'No' with 1 and 0 in relevant columns\n",
        "binary_columns = [\n",
        "    'Global developmental delay/intellectual disability',\n",
        "    'Social/Behavioural Issues',\n",
        "    'Anxiety_disorder',\n",
        "    'Jaundice',\n",
        "    'Family_mem_with_ASD',\n",
        "    'ASD_traits'\n",
        "]\n",
        "\n",
        "for col in binary_columns:\n",
        "    data_set[col] = data_set[col].replace({'Yes': 1, 'No': 0})\n",
        "\n",
        "# Drop non-numeric and irrelevant columns\n",
        "columns_to_drop = [\n",
        "    \"CASE_NO_PATIENT'S\",  # Identifier, not useful for training\n",
        "    'Sex',               # Categorical\n",
        "    'Ethnicity',         # Categorical\n",
        "    'Who_completed_the_test'  # Categorical\n",
        "]\n",
        "data_set = data_set.drop(columns=columns_to_drop)\n",
        "\n",
        "# Encode any remaining categorical columns if needed\n",
        "label_encoder = LabelEncoder()\n",
        "categorical_columns = data_set.select_dtypes(include=['object']).columns\n",
        "for col in categorical_columns:\n",
        "    data_set[col] = label_encoder.fit_transform(data_set[col])\n",
        "\n",
        "# Handle missing values\n",
        "imputer = SimpleImputer(strategy='mean')  # Replace NaNs with column mean\n",
        "data_set = pd.DataFrame(imputer.fit_transform(data_set), columns=data_set.columns)\n",
        "\n",
        "# Separate features and target variable\n",
        "X = data_set.drop(['ASD_traits'], axis=1)\n",
        "y = data_set['ASD_traits']\n",
        "\n",
        "# Split the dataset into training and testing sets\n",
        "X_train, X_test, y_train, y_test = train_test_split(X, y, test_size=0.2, random_state=42)\n",
        "\n",
        "# Train the Gaussian Naive Bayes model\n",
        "model = GaussianNB()\n",
        "model.fit(X_train, y_train)\n",
        "\n",
        "# Predict on the test set\n",
        "y_pred = model.predict(X_test)\n",
        "\n",
        "# Evaluate the model's performance\n",
        "accuracy = accuracy_score(y_test, y_pred)\n",
        "print(\"Accuracy:\", accuracy)\n",
        "\n",
        "# Generate and plot the confusion matrix\n",
        "conf_matrix = confusion_matrix(y_test, y_pred)\n",
        "print(\"Confusion Matrix:\\n\", conf_matrix)\n",
        "disp = ConfusionMatrixDisplay(confusion_matrix=conf_matrix, display_labels=model.classes_)\n",
        "disp.plot(cmap=plt.cm.Blues)\n",
        "plt.show()"
      ],
      "metadata": {
        "colab": {
          "base_uri": "https://localhost:8080/",
          "height": 573
        },
        "id": "F7oLefAzJBQM",
        "outputId": "d6763821-6bbf-4455-d999-78912a66c6b0"
      },
      "execution_count": null,
      "outputs": [
        {
          "output_type": "stream",
          "name": "stderr",
          "text": [
            "<ipython-input-1-2086c7d4baed>:24: FutureWarning: Downcasting behavior in `replace` is deprecated and will be removed in a future version. To retain the old behavior, explicitly call `result.infer_objects(copy=False)`. To opt-in to the future behavior, set `pd.set_option('future.no_silent_downcasting', True)`\n",
            "  data_set[col] = data_set[col].replace({'Yes': 1, 'No': 0})\n"
          ]
        },
        {
          "output_type": "stream",
          "name": "stdout",
          "text": [
            "Accuracy: 0.7229219143576826\n",
            "Confusion Matrix:\n",
            " [[154  42]\n",
            " [ 68 133]]\n"
          ]
        },
        {
          "output_type": "display_data",
          "data": {
            "text/plain": [
              "<Figure size 640x480 with 2 Axes>"
            ],
            "image/png": "[encoded data removed]"
          },
          "metadata": {}
        }
      ]
    }
  ]
}